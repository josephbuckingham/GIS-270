{
 "cells": [
  {
   "cell_type": "code",
   "execution_count": 1,
   "metadata": {},
   "outputs": [],
   "source": [
    "import geopandas as gpd"
   ]
  },
  {
   "cell_type": "code",
   "execution_count": 3,
   "metadata": {},
   "outputs": [
    {
     "data": {
      "text/html": [
       "<div>\n",
       "<style scoped>\n",
       "    .dataframe tbody tr th:only-of-type {\n",
       "        vertical-align: middle;\n",
       "    }\n",
       "\n",
       "    .dataframe tbody tr th {\n",
       "        vertical-align: top;\n",
       "    }\n",
       "\n",
       "    .dataframe thead th {\n",
       "        text-align: right;\n",
       "    }\n",
       "</style>\n",
       "<table border=\"1\" class=\"dataframe\">\n",
       "  <thead>\n",
       "    <tr style=\"text-align: right;\">\n",
       "      <th></th>\n",
       "      <th>raster_val</th>\n",
       "      <th>geometry</th>\n",
       "    </tr>\n",
       "  </thead>\n",
       "  <tbody>\n",
       "    <tr>\n",
       "      <th>0</th>\n",
       "      <td>2019.0</td>\n",
       "      <td>POLYGON ((-2196390.524 1974918.110, -2196360.5...</td>\n",
       "    </tr>\n",
       "    <tr>\n",
       "      <th>1</th>\n",
       "      <td>2019.0</td>\n",
       "      <td>POLYGON ((-2196540.524 1974888.110, -2196510.5...</td>\n",
       "    </tr>\n",
       "    <tr>\n",
       "      <th>2</th>\n",
       "      <td>2019.0</td>\n",
       "      <td>POLYGON ((-2196450.524 1974918.110, -2196420.5...</td>\n",
       "    </tr>\n",
       "    <tr>\n",
       "      <th>3</th>\n",
       "      <td>2016.0</td>\n",
       "      <td>POLYGON ((-2190360.524 1973208.110, -2190330.5...</td>\n",
       "    </tr>\n",
       "    <tr>\n",
       "      <th>4</th>\n",
       "      <td>2016.0</td>\n",
       "      <td>POLYGON ((-2190300.524 1973208.110, -2190240.5...</td>\n",
       "    </tr>\n",
       "    <tr>\n",
       "      <th>...</th>\n",
       "      <td>...</td>\n",
       "      <td>...</td>\n",
       "    </tr>\n",
       "    <tr>\n",
       "      <th>824002</th>\n",
       "      <td>2018.0</td>\n",
       "      <td>POLYGON ((-1373850.524 208788.110, -1373820.52...</td>\n",
       "    </tr>\n",
       "    <tr>\n",
       "      <th>824003</th>\n",
       "      <td>2018.0</td>\n",
       "      <td>POLYGON ((-1373940.524 208758.110, -1373910.52...</td>\n",
       "    </tr>\n",
       "    <tr>\n",
       "      <th>824004</th>\n",
       "      <td>2018.0</td>\n",
       "      <td>POLYGON ((-1374000.524 208668.110, -1373970.52...</td>\n",
       "    </tr>\n",
       "    <tr>\n",
       "      <th>824005</th>\n",
       "      <td>2018.0</td>\n",
       "      <td>POLYGON ((-1374060.524 208638.110, -1374000.52...</td>\n",
       "    </tr>\n",
       "    <tr>\n",
       "      <th>824006</th>\n",
       "      <td>0.0</td>\n",
       "      <td>POLYGON ((-2341230.524 1999158.110, -1321290.5...</td>\n",
       "    </tr>\n",
       "  </tbody>\n",
       "</table>\n",
       "<p>824007 rows × 2 columns</p>\n",
       "</div>"
      ],
      "text/plain": [
       "        raster_val                                           geometry\n",
       "0           2019.0  POLYGON ((-2196390.524 1974918.110, -2196360.5...\n",
       "1           2019.0  POLYGON ((-2196540.524 1974888.110, -2196510.5...\n",
       "2           2019.0  POLYGON ((-2196450.524 1974918.110, -2196420.5...\n",
       "3           2016.0  POLYGON ((-2190360.524 1973208.110, -2190330.5...\n",
       "4           2016.0  POLYGON ((-2190300.524 1973208.110, -2190240.5...\n",
       "...            ...                                                ...\n",
       "824002      2018.0  POLYGON ((-1373850.524 208788.110, -1373820.52...\n",
       "824003      2018.0  POLYGON ((-1373940.524 208758.110, -1373910.52...\n",
       "824004      2018.0  POLYGON ((-1374000.524 208668.110, -1373970.52...\n",
       "824005      2018.0  POLYGON ((-1374060.524 208638.110, -1374000.52...\n",
       "824006         0.0  POLYGON ((-2341230.524 1999158.110, -1321290.5...\n",
       "\n",
       "[824007 rows x 2 columns]"
      ]
     },
     "execution_count": 3,
     "metadata": {},
     "output_type": "execute_result"
    }
   ],
   "source": [
    "fire = gpd.read_file('../raster_to_vector/output/forest_fire/forest_fire.shp')\n",
    "fire"
   ]
  },
  {
   "cell_type": "code",
   "execution_count": null,
   "metadata": {},
   "outputs": [
    {
     "data": {
      "text/plain": [
       "array([[<Axes: title={'center': 'raster_val'}>]], dtype=object)"
      ]
     },
     "execution_count": 5,
     "metadata": {},
     "output_type": "execute_result"
    },
    {
     "data": {
      "image/png": "[encoded data removed]",
      "text/plain": [
       "<Figure size 640x480 with 1 Axes>"
      ]
     },
     "metadata": {},
     "output_type": "display_data"
    }
   ],
   "source": [
    "fire[fire['raster_val'] > 0].plot()"
   ]
  }
 ],
 "metadata": {
  "kernelspec": {
   "display_name": "gis",
   "language": "python",
   "name": "python3"
  },
  "language_info": {
   "codemirror_mode": {
    "name": "ipython",
    "version": 3
   },
   "file_extension": ".py",
   "mimetype": "text/x-python",
   "name": "python",
   "nbconvert_exporter": "python",
   "pygments_lexer": "ipython3",
   "version": "3.12.7"
  }
 },
 "nbformat": 4,
 "nbformat_minor": 2
}
